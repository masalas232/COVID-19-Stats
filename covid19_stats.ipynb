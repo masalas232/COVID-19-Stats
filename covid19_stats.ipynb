{
 "cells": [
  {
   "cell_type": "markdown",
   "metadata": {},
   "source": [
    "# COVID-19 Statsitics"
   ]
  },
  {
   "cell_type": "markdown",
   "metadata": {},
   "source": [
    "Project designed to make two python functions:\n",
    "- 1) design function to output World statistics on COVID-19\n",
    "- 2) design funciton that takes a country as input and returns COVID-19 statistics on that country"
   ]
  },
  {
   "cell_type": "markdown",
   "metadata": {},
   "source": [
    "### Download most current COVID-19 data"
   ]
  },
  {
   "cell_type": "code",
   "execution_count": null,
   "metadata": {},
   "outputs": [],
   "source": [
    "%%bash\n",
    "curl -O https://covid.ourworldindata.org/data/full_data.csv"
   ]
  },
  {
   "cell_type": "markdown",
   "metadata": {},
   "source": [
    "### Import necessary python libraries"
   ]
  },
  {
   "cell_type": "code",
   "execution_count": 1,
   "metadata": {},
   "outputs": [],
   "source": [
    "import pandas as pd\n",
    "import datetime as dt"
   ]
  },
  {
   "cell_type": "markdown",
   "metadata": {},
   "source": [
    "### Read in COVID-19 data"
   ]
  },
  {
   "cell_type": "code",
   "execution_count": 2,
   "metadata": {},
   "outputs": [],
   "source": [
    "covid_data = pd.read_csv('full_data.csv')"
   ]
  },
  {
   "cell_type": "markdown",
   "metadata": {},
   "source": [
    "### 1) Function to return COVID-19 World statistics"
   ]
  },
  {
   "cell_type": "code",
   "execution_count": 3,
   "metadata": {},
   "outputs": [],
   "source": [
    "def covid_world_stats():\n",
    "    \"Function designed to output case and death statistics on COVID-19\"\n",
    "    \n",
    "    # Subset to include World statistics only\n",
    "    covid_world_data = covid_data[covid_data['location'] == 'World']\n",
    "    \n",
    "    # Get specified location\n",
    "    location = covid_world_data.iloc[1][1] \n",
    "    \n",
    "    # Get the date we need for our output \n",
    "    max_date = covid_world_data.date.max()\n",
    "    formatted_date = dt.datetime.strptime(max_date, '%Y-%m-%d')\n",
    "    formatted_date = formatted_date.strftime('%B %d, %Y')\n",
    "    \n",
    "    # What is our total number of cases worldwide?\n",
    "    world_total_cases = covid_world_data.total_cases.max()\n",
    "    print('\\nThe total number of {} COVID-19 cases as of {}: {}.\\n'.format(location, formatted_date, world_total_cases))\n",
    "\n",
    "    # What is our total number of deaths worldwide?\n",
    "    world_total_deaths = covid_world_data.total_deaths.max()\n",
    "    print('The total number of {} COVID-19 deaths as of {}: {:.0f}.\\n'.format(location, formatted_date, world_total_deaths))\n",
    "\n",
    "    #What is our worldwide death rate? \n",
    "    world_death_rate = (world_total_deaths/world_total_cases)*100\n",
    "    print('As of {}, our {} death rate is {:.2f}%.\\n'.format(formatted_date, location, world_death_rate))\n",
    "\n",
    "    #What is our total number of new cases?\n",
    "    world_total_new = int(covid_world_data.new_cases.tail(1).values)\n",
    "    print('On {}, there were a total of {:,.0f} new COVID-19 cases reported in the {}.\\n'.format(formatted_date, world_total_new, location))"
   ]
  },
  {
   "cell_type": "markdown",
   "metadata": {},
   "source": [
    "#### Run World COVID-19 Statistics Function"
   ]
  },
  {
   "cell_type": "code",
   "execution_count": 4,
   "metadata": {},
   "outputs": [
    {
     "name": "stdout",
     "output_type": "stream",
     "text": [
      "\n",
      "The total number of World COVID-19 cases as of March 17, 2020: 179112.\n",
      "\n",
      "The total number of World COVID-19 deaths as of March 17, 2020: 7426.\n",
      "\n",
      "As of March 17, 2020, our World death rate is 4.15%.\n",
      "\n",
      "On March 17, 2020, there were a total of 11,594 new COVID-19 cases reported in the World.\n",
      "\n"
     ]
    }
   ],
   "source": [
    "covid_world_stats()"
   ]
  },
  {
   "cell_type": "markdown",
   "metadata": {},
   "source": [
    "### 2) Fuction to return user inputted country COVID-19 statistics"
   ]
  },
  {
   "cell_type": "markdown",
   "metadata": {},
   "source": [
    "#### Give users a list of countries avialable and prompt user for input"
   ]
  },
  {
   "cell_type": "code",
   "execution_count": 5,
   "metadata": {},
   "outputs": [
    {
     "name": "stdout",
     "output_type": "stream",
     "text": [
      "\n",
      "Select a country from the following list for updated COVID-19 stats for that country\n",
      "\n",
      "Afghanistan         ,Albania             ,Algeria             ,Andorra             ,Antigua and Barbuda,\n",
      "Argentina           ,Armenia             ,Aruba               ,Australia           ,Austria,\n",
      "Azerbaijan          ,Bahamas             ,Bahrain             ,Bangladesh          ,Belarus,\n",
      "Belgium             ,Benin               ,Bhutan              ,Bolivia             ,Bosnia and Herzegovina,\n",
      "Brazil              ,Brunei              ,Bulgaria            ,Burkina Faso        ,Cambodia,\n",
      "Cameroon            ,Canada              ,Cayman Islands      ,Central African Republic,Chile,\n",
      "China               ,Colombia            ,Congo               ,Costa Rica          ,Croatia,\n",
      "Cuba                ,Curacao             ,Cyprus              ,Czech Republic      ,Cote d'Ivoire,\n",
      "Democratic Republic of Congo,Denmark             ,Dominican Republic  ,Ecuador             ,Egypt,\n",
      "Equatorial Guinea   ,Estonia             ,Swaziland           ,Ethiopia            ,Faeroe Islands,\n",
      "Finland             ,France              ,French Guiana       ,French Polynesia    ,Gabon,\n",
      "Georgia             ,Germany             ,Ghana               ,Gibraltar           ,Greece,\n",
      "Guadeloupe          ,Guam                ,Guatemala           ,Guernsey            ,Guinea,\n",
      "Guyana              ,Vatican             ,Honduras            ,Hungary             ,Iceland,\n",
      "India               ,Indonesia           ,International       ,Iran                ,Iraq,\n",
      "Ireland             ,Israel              ,Italy               ,Jamaica             ,Japan,\n",
      "Jersey              ,Jordan              ,Kazakhstan          ,Kenya               ,Kuwait,\n",
      "Latvia              ,Lebanon             ,Liberia             ,Liechtenstein       ,Lithuania,\n",
      "Luxembourg          ,Malaysia            ,Maldives            ,Malta               ,Martinique,\n",
      "Mauritania          ,Mayotte             ,Mexico              ,Monaco              ,Mongolia,\n",
      "Morocco             ,Namibia             ,Nepal               ,Netherlands         ,New Zealand,\n",
      "Nigeria             ,Macedonia           ,Norway              ,Palestine           ,Oman,\n",
      "Pakistan            ,Panama              ,Paraguay            ,Peru                ,Philippines,\n",
      "Poland              ,Portugal            ,Puerto Rico         ,Qatar               ,South Korea,\n",
      "Moldova             ,Romania             ,Russia              ,Rwanda              ,Reunion,\n",
      "Saint Barthlemy     ,Saint Lucia         ,Saint Martin (French part),Saint Vincent and the Grenadines,San Marino,\n",
      "Saudi Arabia        ,Senegal             ,Serbia              ,Seychelles          ,Singapore,\n",
      "Slovakia            ,Slovenia            ,Somalia             ,South Africa        ,Spain,\n",
      "Sri Lanka           ,Sudan               ,Suriname            ,Sweden              ,Switzerland,\n",
      "Thailand            ,United Kingdom      ,Togo                ,Trinidad and Tobago ,Tunisia,\n",
      "Turkey              ,Ukraine             ,United Arab Emirates,Tanzania            ,United States Virgin Islands,\n",
      "United States       ,Uruguay             ,Uzbekistan          ,Venezuela           ,Vietnam,\n",
      "\n",
      "What country would you like to see COVID-19 stats for?\n",
      "china\n"
     ]
    }
   ],
   "source": [
    "country_list = list(covid_data.location.unique())\n",
    "\n",
    "print(\"\\nSelect a country from the following list for updated COVID-19 stats for that country\\n\")\n",
    "\n",
    "for a,b,c,d,e in zip(country_list[::5],country_list[1::5],country_list[2::5],country_list[3::5],country_list[4::5]):\n",
    "    print('{:<20},{:<20},{:<20},{:<20},{:<},'.format(a,b,c,d,e))\n",
    "\n",
    "global country\n",
    "# .title() eliminates case sensitivity for user input\n",
    "country = input('\\nWhat country would you like to see COVID-19 stats for?\\n').title()"
   ]
  },
  {
   "cell_type": "markdown",
   "metadata": {},
   "source": [
    "#### Design function to take user input and return COVID-19 statistics for chosen country"
   ]
  },
  {
   "cell_type": "code",
   "execution_count": 6,
   "metadata": {},
   "outputs": [],
   "source": [
    "def covid_stats(country):\n",
    "    \"Function designed to output case and death statistics on COVID-19 for particular country\"\n",
    "    \n",
    "    # Subset to include country statistics only\n",
    "    covid_country_data = covid_data[covid_data['location'] == country]\n",
    "\n",
    "    # Get the date we need for our output \n",
    "    max_date = covid_country_data.date.max()\n",
    "    formatted_date = dt.datetime.strptime(max_date, '%Y-%m-%d')\n",
    "    formatted_date = formatted_date.strftime('%B %d, %Y')\n",
    "\n",
    "    # What is our total number of cases in country?\n",
    "    country_total_cases = covid_country_data.total_cases.max()\n",
    "    print('\\nThe total number of {} COVID-19 cases as of {}: {}.\\n'.format(country, formatted_date, country_total_cases))\n",
    "\n",
    "    # What is our total number of deaths in country?\n",
    "    country_total_deaths = covid_country_data.total_deaths.max()\n",
    "    print('The total number of {} COVID-19 deaths as of {}: {:.0f}.\\n'.format(country, formatted_date, country_total_deaths))\n",
    "\n",
    "    #What is the country death rate? \n",
    "    country_death_rate = (country_total_deaths/country_total_cases)*100\n",
    "    print('As of {}, our {} death rate is {:.2f}%.\\n'.format(formatted_date, country, country_death_rate))\n",
    "\n",
    "    #What is our total number of new cases in country?\n",
    "    country_total_new = int(covid_country_data.new_cases.tail(1).values)\n",
    "    print('On {}, there were a total of {:,.0f} new COVID-19 cases reported in {}.\\n'.format(formatted_date, country_total_new, country))\n"
   ]
  },
  {
   "cell_type": "markdown",
   "metadata": {},
   "source": [
    "#### Run country COVID-19 statistics funciton with user input country"
   ]
  },
  {
   "cell_type": "code",
   "execution_count": 7,
   "metadata": {},
   "outputs": [
    {
     "name": "stdout",
     "output_type": "stream",
     "text": [
      "\n",
      "The total number of China COVID-19 cases as of March 17, 2020: 81116.\n",
      "\n",
      "The total number of China COVID-19 deaths as of March 17, 2020: 3231.\n",
      "\n",
      "As of March 17, 2020, our China death rate is 3.98%.\n",
      "\n",
      "On March 17, 2020, there were a total of 39 new COVID-19 cases reported in China.\n",
      "\n"
     ]
    }
   ],
   "source": [
    "covid_stats(country)"
   ]
  }
 ],
 "metadata": {
  "kernelspec": {
   "display_name": "Python 3",
   "language": "python",
   "name": "python3"
  },
  "language_info": {
   "codemirror_mode": {
    "name": "ipython",
    "version": 3
   },
   "file_extension": ".py",
   "mimetype": "text/x-python",
   "name": "python",
   "nbconvert_exporter": "python",
   "pygments_lexer": "ipython3",
   "version": "3.6.8"
  }
 },
 "nbformat": 4,
 "nbformat_minor": 2
}
